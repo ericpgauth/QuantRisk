{
 "cells": [
  {
   "cell_type": "markdown",
   "metadata": {
    "collapsed": false
   },
   "source": [
    "# Chapter 12: Hedging #"
   ]
  },
  {
   "cell_type": "markdown",
   "metadata": {
    "collapsed": false
   },
   "source": [
    "## Code segment 12.1\n",
    "US and German rates in Section 12.1"
   ]
  },
  {
   "cell_type": "code",
   "execution_count": 3,
   "metadata": {
    "collapsed": false
   },
   "outputs": [
    {
     "name": "stdout",
     "output_type": "stream",
     "text": [
      "As of: 2021-12-30\n",
      "    Spot dollars per euro (f/d) 1.1318\n",
      "    US 1-year rate rf 0.3800\n"
     ]
    },
    {
     "name": "stdout",
     "output_type": "stream",
     "text": [
      "    German 1-year rate rd -0.7300 as of 2021-12\n",
      "\n",
      "    1yr forward dollars per euro 1.1444\n"
     ]
    }
   ],
   "source": [
    "#Code Segment 12.1\n",
    "import pandas as pd\n",
    "import qrpm_funcs as qf\n",
    "import numpy as np\n",
    "from datetime import datetime\n",
    "import ssl\n",
    "\n",
    "#Get exchange rates and US riskfree rates\n",
    "lastday=qf.LastYearEnd()\n",
    "seriesnames=['DEXUSEU','DGS1']\n",
    "while True:\n",
    "    cdates,ratematrix=qf.GetFREDMatrix(seriesnames,enddate=lastday)\n",
    "    usd_per_euro=ratematrix[-1][0]\n",
    "    rt1_us=ratematrix[-1][1]\n",
    "    if not np.isnan(usd_per_euro): break\n",
    "    lastday=lastday[:8]+str(int(lastday[-2:])-1)  #Back up over holidays\n",
    "\n",
    "print(\"As of:\",cdates[-1])\n",
    "usd_per_euro=ratematrix[-1][0]\n",
    "rt1_us=ratematrix[-1][1]\n",
    "print(\"    Spot dollars per euro (f/d) %.4f\" % usd_per_euro)\n",
    "print(\"    US 1-year rate rf %.4f\" % rt1_us)\n",
    "\n",
    "#Put end-of-month exchange rates in dataframe for later use\n",
    "df_fx_d = pd.DataFrame(np.array(ratematrix)[:,0], \\\n",
    "                     index=[datetime.strptime(cd,\"%Y-%m-%d\") for cd in cdates], \\\n",
    "                     columns=[seriesnames[0]])\n",
    "#Drop NaNs and save only monthends\n",
    "df_fx=df_fx_d.dropna().resample('M').last()\n",
    "#Form log-returns; negative means dollar strengthened\n",
    "#so it is ln((f/d)1/(f/d)0) where f is dollar d is euro\n",
    "df_fx=np.log(df_fx).diff().dropna()\n",
    "\n",
    "#Problem with Bundesbank's certificate - drop verification\n",
    "try:\n",
    "    _create_unverified_https_context = ssl._create_unverified_context\n",
    "except AttributeError:\n",
    "    # Legacy Python that doesn't verify HTTPS certificates by default\n",
    "    pass\n",
    "else:\n",
    "    # Handle target environment that doesn't support HTTPS verification\n",
    "    ssl._create_default_https_context = _create_unverified_https_context\n",
    "\n",
    "#Read one-year rates from Bundesbank\n",
    "bundesbank_url = \"https://www.bundesbank.de/statistic-rmi/StatisticDownload?tsId=\"\n",
    "bundesbank_url += \"BBSIS.M.I.ZST.ZI.EUR.S1311.B.A604.R01XX.R.A.A._Z._Z.A&\"\n",
    "bundesbank_url += \"its_csvFormat=en&its_fileFormat=csv&mode=its\"\n",
    "df_csv = pd.read_csv(bundesbank_url,skiprows=4)\n",
    "df_german = df_csv.rename(index=str, columns={df_csv.columns[0]: \"Date\", \\\n",
    "                                              df_csv.columns[1]: \"Rate\"})\n",
    "#Check latest\n",
    "bundesbank_lastdate=df_german['Date'].iloc[-1]\n",
    "if bundesbank_lastdate >= lastday[:7]:\n",
    "    rt1_german=df_german.loc[df_german['Date'] == lastday[:7]][\"Rate\"].iloc[0]\n",
    "    bundesbank_lastdate = lastday[:7]\n",
    "else: #Bundesbank hasn't yet updated rates to last day of previous year. Mach Schnell!\n",
    "    rt1_german=df_german[\"Rate\"].iloc[-1]\n",
    "\n",
    "print(\"    German 1-year rate rd %.4f\" % rt1_german,\"as of\",bundesbank_lastdate)\n",
    "\n",
    "#Calculate currency forward price per (12.2)\n",
    "time=1\n",
    "fwd_price=usd_per_euro*np.exp((rt1_us-rt1_german)*time/100.)\n",
    "print(\"\\n    1yr forward dollars per euro %.4f\" % fwd_price)"
   ]
  },
  {
   "cell_type": "markdown",
   "metadata": {
    "collapsed": false
   },
   "source": [
    "## Code segment 12.2\n",
    "Table 12.1 in Section 12.1"
   ]
  },
  {
   "cell_type": "code",
   "execution_count": 5,
   "metadata": {
    "collapsed": false
   },
   "outputs": [
    {
     "name": "stdout",
     "output_type": "stream",
     "text": [
      "Table 12.1: Hedging EUR 10,000\n",
      "Item      |        Dollars (USD=f)       |       Euros (EUR=d)     |        Ratio\n",
      "------------------------------------------------------------------------------------------\n",
      "Time 0    |           11,318.0           |        10,000.0         | Spot USD/EUR 1.1318\n",
      "1yr rfree |              0.380           |          -0.730         |\n",
      "Time 1    |           11,361.1           |         9,927.3         |  Fwd USD/EUR 1.1444\n"
     ]
    }
   ],
   "source": [
    "#Code Segment 12.2\n",
    "euro_invested=10000.\n",
    "euro_forward=euro_invested*np.exp(rt1_german/100*time)\n",
    "usd_invested=euro_invested*usd_per_euro\n",
    "usd_forward=usd_invested*np.exp(rt1_us/100*time)\n",
    "\n",
    "def show_currency_forward_table(title):\n",
    "\n",
    "    print(title)\n",
    "    print(\"Item      |        Dollars (USD=f)       |       Euros (EUR=d)     |        Ratio\")\n",
    "    print(\"-\"*90)\n",
    "    print(\"Time 0    |\", \\\n",
    "         \"          {:8,.1f}\".format(usd_invested), \\\n",
    "         \"          |        {:8,.1f}\".format(euro_invested), \\\n",
    "          \"        | Spot USD/EUR {:6,.4f}\".format(usd_per_euro))\n",
    "    print(\"1yr rfree |\", \\\n",
    "         \"          {:8,.3f}\".format(rt1_us), \\\n",
    "         \"          |        {:8,.3f}\".format(rt1_german), \\\n",
    "          \"        |\")\n",
    "    print(\"Time 1    |\", \\\n",
    "         \"          {:8,.1f}\".format(usd_forward), \\\n",
    "         \"          |        {:8,.1f}\".format(euro_forward), \\\n",
    "          \"        |  Fwd USD/EUR {:6,.4f}\".format(fwd_price))\n",
    "\n",
    "show_currency_forward_table(\"Table 12.1: Hedging EUR 10,000\")"
   ]
  },
  {
   "cell_type": "markdown",
   "metadata": {
    "collapsed": false
   },
   "source": [
    "## Code segment 12.3\n",
    "Table 12.2 in Section 12.1"
   ]
  },
  {
   "cell_type": "code",
   "execution_count": 6,
   "metadata": {
    "collapsed": false
   },
   "outputs": [
    {
     "name": "stdout",
     "output_type": "stream",
     "text": [
      "Table 12.2: Hedging plus gain\n",
      "Item      |        Dollars (USD=f)       |       Euros (EUR=d)     |        Ratio\n",
      "------------------------------------------------------------------------------------------\n",
      "Time 0    |           11,318.0           |        10,000.0         | Spot USD/EUR 1.1318\n",
      "1yr rfree |              0.380           |          -0.730         |\n",
      "Time 1    |           11,361.1           |         9,927.3         |  Fwd USD/EUR 1.1444\n",
      "T=1 TSLA  |           13,581.6           |                         |              0.2000\n",
      "T=1 Unhdgd|            2,220.5           |           444.1         |Crash USD/EUR 5.0000\n",
      "Final amt |                              |        10,371.4         | Final return 0.0371\n",
      "No hedge  |           13,581.6           |         2,716.3         |Final no hdg -0.7284\n"
     ]
    }
   ],
   "source": [
    "#Code Segment 12.3\n",
    "show_currency_forward_table(\"Table 12.2: Hedging plus gain\")\n",
    "\n",
    "#Calculations for Philippe's investment in TSLA\n",
    "#under dollar-crash/TSLA up scenario\n",
    "underlying_dollar_appreciation=.2\n",
    "new_usd_per_euro=5\n",
    "new_tsla_value=usd_invested*(1+underlying_dollar_appreciation)\n",
    "unhedged_tsla_gain_usd=new_tsla_value-usd_forward\n",
    "unhedged_tsla_gain_euro=unhedged_tsla_gain_usd/new_usd_per_euro\n",
    "final_euro_total=euro_forward+unhedged_tsla_gain_euro\n",
    "\n",
    "print(\"T=1 TSLA  |\", \\\n",
    "      \"          {:8,.1f}\".format(new_tsla_value), \\\n",
    "      \"          |                        \", \\\n",
    "      \"|              {:6,.4f}\".format(underlying_dollar_appreciation))\n",
    "print(\"T=1 Unhdgd|\", \\\n",
    "     \"          {:8,.1f}\".format(unhedged_tsla_gain_usd), \\\n",
    "     \"          |        {:8,.1f}\".format(unhedged_tsla_gain_euro), \\\n",
    "     \"        |Crash USD/EUR {:6,.4f}\".format(new_usd_per_euro))\n",
    "print(\"Final amt |\", \\\n",
    "     \"                  \", \\\n",
    "     \"          |        {:8,.1f}\".format(final_euro_total), \\\n",
    "     \"        | Final return {:6,.4f}\".format(final_euro_total/euro_invested-1.))\n",
    "print(\"No hedge  |\", \\\n",
    "     \"          {:8,.1f}\".format(new_tsla_value), \\\n",
    "     \"          |        {:8,.1f}\".format(new_tsla_value/new_usd_per_euro), \\\n",
    "     \"        |Final no hdg {:6,.4f}\".format( \\\n",
    "                        (new_tsla_value/new_usd_per_euro)/euro_invested-1.))\n"
   ]
  },
  {
   "cell_type": "markdown",
   "metadata": {
    "collapsed": false
   },
   "source": [
    "## Code segment 12.4\n",
    "Quanto hedging inputs in Section 12.1.1"
   ]
  },
  {
   "cell_type": "code",
   "execution_count": 7,
   "metadata": {
    "collapsed": false
   },
   "outputs": [
    {
     "name": "stdout",
     "output_type": "stream",
     "text": [
      "Data from 2010-07-31 to 2021-12-31\n",
      "            Current price of underlying X_0: 11318.00\n",
      "                             Time horizon T: 1.000000\n",
      "                 Domestic riskfree rate r_d: -0.7300\n",
      "                  Foreign riskfree rate r_f: 0.3800\n",
      "          Foreign currency strike price K_f: 11361.09\n",
      "Annualized volatility of underlying sigma_X: 0.5562\n",
      "  Annualized volatility of f/x rate sigma_R: 0.0843\n",
      "     Correlation between underlying and f/x: 0.1512\n"
     ]
    }
   ],
   "source": [
    "#Code Segment 12.4\n",
    "#Parameter calculations for dollar/euro TSLA quanto\n",
    "import yfinance as yf\n",
    "#https://github.com/ranaroussi/yfinance\n",
    "\n",
    "tsla = yf.Ticker(\"TSLA\")\n",
    "df_tsla=tsla.history(period=\"max\")   #Prices are adjusted\n",
    "df_tsla=df_tsla.resample('M').last()\n",
    "#Dumb down dates\n",
    "dumb_index=[]; close=[]\n",
    "for i in range(len(df_tsla)):\n",
    "    dumb_index.append(df_tsla.index[i].to_pydatetime().replace(tzinfo=None))\n",
    "    close.append(df_tsla[\"Close\"].iloc[i])\n",
    "    \n",
    "df_tsla=pd.DataFrame(index=dumb_index,data=close)\n",
    "df_tsla.index.rename(\"Date\", inplace=True)\n",
    "df_tsla.columns = ['Close']\n",
    "\n",
    "#Form log-returns\n",
    "df_tsla=pd.DataFrame(np.log(df_tsla[\"Close\"]).diff().dropna())\n",
    "\n",
    "# Join underlying and currency\n",
    "df_join=df_tsla.join(df_fx).dropna()\n",
    "\n",
    "print(\"Data from\",df_join.index[0].strftime(\"%Y-%m-%d\"),\"to\", \\\n",
    "      df_join.index[-1].strftime(\"%Y-%m-%d\"))\n",
    "#Current price of underlying in foreign currency\n",
    "X_0=usd_invested\n",
    "print(\"            Current price of underlying X_0: %.2f\" % X_0)\n",
    "print(\"                             Time horizon T: %f\" % time)\n",
    "print(\"                 Domestic riskfree rate r_d: %.4f\" % rt1_german)\n",
    "print(\"                  Foreign riskfree rate r_f: %.4f\" % rt1_us)\n",
    "print(\"          Foreign currency strike price K_f: %.2f\" % usd_forward)\n",
    "\n",
    "#Annualized standard deviations\n",
    "sigma_X=df_join.std()[\"Close\"]*np.sqrt(12.)\n",
    "sigma_R=df_join.std()[df_fx.columns[0]]*np.sqrt(12.)\n",
    "print(\"Annualized volatility of underlying sigma_X: %.4f\" % sigma_X)\n",
    "print(\"  Annualized volatility of f/x rate sigma_R: %.4f\" % sigma_R)\n",
    "#Correlation\n",
    "rho=df_join.corr().iloc[0,1]\n",
    "print(\"     Correlation between underlying and f/x: %.4f\" % rho)"
   ]
  },
  {
   "cell_type": "markdown",
   "metadata": {
    "collapsed": false
   },
   "source": [
    "## Code segment 12.5\n",
    "Quanto hedging outputs in Section 12.1.1"
   ]
  },
  {
   "cell_type": "code",
   "execution_count": 8,
   "metadata": {
    "collapsed": false
   },
   "outputs": [
    {
     "name": "stdout",
     "output_type": "stream",
     "text": [
      "              Buy Quanto call: 2234.26\n",
      "       Write Dollar-only call: 2479.48\n",
      "  Cost of hedging TSLA upside: -245.21\n",
      "\n",
      "             Write Quanto put: 2344.65\n",
      "          Buy Dollar-only put: 2479.48\n",
      "Cost of hedging TSLA downside: 134.83 \n",
      "\n",
      "        Total cost of hedging: -110.39\n"
     ]
    }
   ],
   "source": [
    "#Code Segment 12.5\n",
    "import scipy.stats as spst\n",
    "\n",
    "#Prices of quanto call and quanto put\n",
    "def quanto_call(X_0,T,r_f,r_d,K_f,sigma_X,sigma_R,rho):\n",
    "    #returns price of quanto call from (12.23)\n",
    "    #Variables have to be positive\n",
    "    if X_0<=0 or T<=0 or K_f<=0 or sigma_X<0 or sigma_R<0:\n",
    "        return(0)\n",
    "    q=r_d-r_f-rho*sigma_X*sigma_R\n",
    "    d_plus=(np.log(X_0/K_f)+(r_d-q+sigma_X**2/2)*T)/(sigma_X*np.sqrt(T))\n",
    "    d_minus=d_plus-sigma_X*np.sqrt(T)\n",
    "    #Get cumulative normals\n",
    "    n_of_d_plus=spst.norm.cdf(d_plus)\n",
    "    n_of_d_minus=spst.norm.cdf(d_minus)\n",
    "    qc=X_0*np.exp(-q*T)*n_of_d_plus-K_f*np.exp(-r_d*T)*n_of_d_minus\n",
    "    return(qc)\n",
    "\n",
    "def quanto_put(X_0,T,r_f,r_d,K_f,sigma_X,sigma_R,rho):\n",
    "    #compute price of quanto put from (12.25)\n",
    "    #calls quanto_call and uses put-call parity\n",
    "    qc=quanto_call(X_0,T,r_f,r_d,K_f,sigma_X,sigma_R,rho)\n",
    "    qp=qc-X_0+np.exp(-r_d*T)*K_f\n",
    "    \n",
    "    return(qp)\n",
    "\n",
    "#Compute example quanto call value\n",
    "q_c = quanto_call(X_0, time, rt1_us/100., rt1_german/100., usd_forward, \\\n",
    "            sigma_X, sigma_R, rho)\n",
    "#Scale by 1/fwd\n",
    "q_c/=fwd_price\n",
    "print(\"              Buy Quanto call: %.2f\" % q_c)\n",
    "\n",
    "#Compute example plain vanilla call value\n",
    "bs_c = quanto_call(X_0, time, rt1_us/100., rt1_us/100., usd_forward, \\\n",
    "            sigma_X, 0., 0.)\n",
    "print(\"       Write Dollar-only call: %.2f\" % bs_c)\n",
    "\n",
    "up_cost=q_c-bs_c\n",
    "print(\"  Cost of hedging TSLA upside: %.2f\" % up_cost)\n",
    "\n",
    "#Compute example quanto put value\n",
    "q_p = quanto_put(X_0, time, rt1_us/100., rt1_german/100., usd_forward, \\\n",
    "            sigma_X, sigma_R, rho)\n",
    "#Scale by 1/fwd\n",
    "q_p/=fwd_price\n",
    "print(\"\\n             Write Quanto put: %.2f\" % q_p)\n",
    "\n",
    "#Compute example plain vanilla put value\n",
    "bs_p = quanto_put(X_0, time, rt1_us/100., rt1_us/100., usd_forward, \\\n",
    "            sigma_X, 0., 0.)\n",
    "print(\"          Buy Dollar-only put: %.2f\" % bs_p)\n",
    "\n",
    "down_cost=bs_p-q_p\n",
    "print(\"Cost of hedging TSLA downside: %.2f \"% down_cost)\n",
    "total_cost=up_cost+down_cost\n",
    "print(\"\\n        Total cost of hedging: %.2f\" % total_cost)"
   ]
  },
  {
   "cell_type": "markdown",
   "metadata": {
    "collapsed": false
   },
   "source": [
    "## Code segment 12.6\n",
    "Table 12.3 in Section 12.2"
   ]
  },
  {
   "cell_type": "code",
   "execution_count": 9,
   "metadata": {
    "collapsed": false
   },
   "outputs": [
    {
     "name": "stdout",
     "output_type": "stream",
     "text": [
      "Table 12.3: Philippe Wine Company Summary\n",
      "Location     |       France\n",
      "CEO          |       Philippe\n",
      "Import budget| EUR 20,000,000.0\n",
      "Cost/bottle  |    USD 11.3180\n",
      "Sales price  |    EUR 11.0000\n",
      "Num imported |      2,000,000.0\n",
      "\n",
      "T=0 USD/EUR  |    USD  1.1318\n",
      "Cost/bot, lcl|    EUR 10.0000\n",
      "Profit       |    EUR  2,000,000.0\n",
      "\n",
      "Bad USD/EUR  |    USD  1.0289\n",
      "Cost/bot, lcl|    EUR 11.0000\n",
      "Profit       |    EUR          0.0\n"
     ]
    }
   ],
   "source": [
    "#Code Segment 12.6\n",
    "pwc_french_euro_budget=20000000.\n",
    "french_bottle_cost=10.\n",
    "us_bottle_cost=french_bottle_cost*usd_per_euro\n",
    "french_bottle_sales_price=french_bottle_cost*1.1\n",
    "pwc_num_imported=pwc_french_euro_budget/french_bottle_cost\n",
    "\n",
    "print(\"Table 12.3: Philippe Wine Company Summary\")\n",
    "print(\"Location     |       France\")\n",
    "print(\"CEO          |       Philippe\")\n",
    "print(\"Import budget| EUR {:12,.1f}\".format(pwc_french_euro_budget))\n",
    "print(\"Cost/bottle  |    USD {:7.4f}\".format(us_bottle_cost))\n",
    "print(\"Sales price  |    EUR {:7.4f}\".format(french_bottle_sales_price))\n",
    "print(\"Num imported |     {:12,.1f}\".format(pwc_num_imported))\n",
    "\n",
    "print(\"\\nT=0 USD/EUR  |    USD {:7.4f}\".format(usd_per_euro))\n",
    "print(\"Cost/bot, lcl|    EUR {:7.4f}\".format(french_bottle_cost))\n",
    "print(\"Profit       |    EUR {:12,.1f}\". \\\n",
    "      format(pwc_num_imported*(french_bottle_sales_price-french_bottle_cost)))\n",
    "\n",
    "fx_bad=us_bottle_cost/french_bottle_sales_price\n",
    "print(\"\\nBad USD/EUR  |    USD {:7.4f}\".format(fx_bad))\n",
    "print(\"Cost/bot, lcl|    EUR {:7.4f}\".format(us_bottle_cost/fx_bad))\n",
    "print(\"Profit       |    EUR {:12,.1f}\".format(0))"
   ]
  },
  {
   "cell_type": "markdown",
   "metadata": {
    "collapsed": false
   },
   "source": [
    "## Code segment 12.7\n",
    "Table 12.4 in Section 12.2"
   ]
  },
  {
   "cell_type": "code",
   "execution_count": 10,
   "metadata": {
    "collapsed": false
   },
   "outputs": [
    {
     "name": "stdout",
     "output_type": "stream",
     "text": [
      "Table 12.4: Philippe-Ken Wine Company: unchanged f/x\n",
      "Location     |       France      |       USA        |    Total\n",
      "CEO          |       Philippe    |       Ken        |\n",
      "Import budget| EUR 10,000,000.0  | USD 11,318,000.0 |\n",
      "Cost/bottle  |    USD 11.3180    |    EUR 10.0000   |\n",
      "Sales price  |    EUR 11.0000    |    USD 12.4498   |\n",
      "\n",
      "\n",
      "USD/EUR      |    1.1318         |                  |\n",
      "Cost/bot lcl |    EUR 10.0000    |    USD 11.3180   |\n",
      "Num imported |      1,000,000.0  |      1,000,000.0 |     2,000,000.0\n",
      "Profit       |  EUR 1,000,000.0  |  USD 1,131,800.0 | EUR 2,000,000.0\n"
     ]
    }
   ],
   "source": [
    "#Code Segment 12.7\n",
    "#Calculations for Philippe-Ken Wine Company\n",
    "\n",
    "def display_company_stats(new_rate,title):\n",
    "\n",
    "    french_euro_budget=10000000.\n",
    "    french_bottle_cost=10.\n",
    "    us_bottle_cost=french_bottle_cost*usd_per_euro\n",
    "    us_usd_budget=french_euro_budget*usd_per_euro\n",
    "    french_bottle_sales_price=french_bottle_cost*1.1\n",
    "    us_bottle_sales_price=us_bottle_cost*1.1\n",
    "\n",
    "    print(title)\n",
    "    print(\"Location     |       France      |       USA        |    Total\")\n",
    "    print(\"CEO          |       Philippe    |       Ken        |\")\n",
    "    print(\"Import budget| EUR {:12,.1f}\".format(french_euro_budget), \\\n",
    "          \" | USD {:12,.1f}\".format(us_usd_budget),\"|\")\n",
    "    print(\"Cost/bottle  |    USD {:7.4f}\".format(us_bottle_cost), \\\n",
    "          \"   |    EUR {:7.4f}\".format(french_bottle_cost),\"  |\")\n",
    "    print(\"Sales price  |    EUR %.4f\" % french_bottle_sales_price, \\\n",
    "      \"   |    USD %.4f\" % us_bottle_sales_price,\"  |\")\n",
    "\n",
    "    print(\"\\n\")\n",
    "    local_french_cost=us_bottle_cost/new_rate\n",
    "    local_us_cost=french_bottle_cost*new_rate\n",
    "    french_bottles=french_euro_budget*new_rate/us_bottle_cost\n",
    "    us_bottles=us_usd_budget/new_rate/french_bottle_cost\n",
    "    total_bottles=french_bottles+us_bottles\n",
    "    french_pandl=french_bottles*(11-us_bottle_cost/new_rate)\n",
    "    us_pandl=us_bottles*(us_bottle_sales_price-french_bottle_cost*new_rate)\n",
    "    total_pandl=french_pandl+us_pandl/new_rate\n",
    "\n",
    "    print(\"USD/EUR      |    %.4f\" % new_rate,\"        |                  |\")\n",
    "\n",
    "    print(\"Cost/bot lcl |    EUR {:7.4f}\".format(local_french_cost), \\\n",
    "          \"   |    USD {:7.4f}\".format(local_us_cost),\"  |\")\n",
    "    print(\"Num imported |     {:12,.1f}\".format(french_bottles), \\\n",
    "      \" |     {:12,.1f}\".format(us_bottles), \\\n",
    "      \"|    {:12,.1f}\".format(total_bottles))\n",
    "    print(\"Profit       |  EUR{:12,.1f}\".format(french_pandl), \\\n",
    "      \" |  USD{:12,.1f}\".format(us_pandl), \\\n",
    "      \"| EUR{:12,.1f}\".format(total_pandl))\n",
    "\n",
    "#Show table at current exchange rate\n",
    "display_company_stats(usd_per_euro, \\\n",
    "                \"Table 12.4: Philippe-Ken Wine Company: unchanged f/x\")"
   ]
  },
  {
   "cell_type": "markdown",
   "metadata": {
    "collapsed": false
   },
   "source": [
    "## Code segment 12.8\n",
    "Table 12.5 in Section 12.2"
   ]
  },
  {
   "cell_type": "code",
   "execution_count": 11,
   "metadata": {
    "collapsed": false
   },
   "outputs": [
    {
     "name": "stdout",
     "output_type": "stream",
     "text": [
      "Table 12.5: Philippe-Ken Wine Company: strong dollar\n",
      "Location     |       France      |       USA        |    Total\n",
      "CEO          |       Philippe    |       Ken        |\n",
      "Import budget| EUR 10,000,000.0  | USD 11,318,000.0 |\n",
      "Cost/bottle  |    USD 11.3180    |    EUR 10.0000   |\n",
      "Sales price  |    EUR 11.0000    |    USD 12.4498   |\n",
      "\n",
      "\n",
      "USD/EUR      |    1.0000         |                  |\n",
      "Cost/bot lcl |    EUR 11.3180    |    USD 10.0000   |\n",
      "Num imported |        883,548.3  |      1,131,800.0 |     2,015,348.3\n",
      "Profit       |  EUR  -280,968.4  |  USD 2,772,683.6 | EUR 2,491,715.3\n"
     ]
    }
   ],
   "source": [
    "#Code Segment 12.8\n",
    "display_company_stats(1.0,\"Table 12.5: Philippe-Ken Wine Company: strong dollar\")"
   ]
  },
  {
   "cell_type": "markdown",
   "metadata": {
    "collapsed": false
   },
   "source": [
    "## Code segment 12.9\n",
    "Table 12.6 in Section 12.2"
   ]
  },
  {
   "cell_type": "code",
   "execution_count": 12,
   "metadata": {
    "collapsed": false
   },
   "outputs": [
    {
     "name": "stdout",
     "output_type": "stream",
     "text": [
      "Table 12.6: Philippe-Ken Wine Company: weak dollar\n",
      "Location     |       France      |       USA        |    Total\n",
      "CEO          |       Philippe    |       Ken        |\n",
      "Import budget| EUR 10,000,000.0  | USD 11,318,000.0 |\n",
      "Cost/bottle  |    USD 11.3180    |    EUR 10.0000   |\n",
      "Sales price  |    EUR 11.0000    |    USD 12.4498   |\n",
      "\n",
      "\n",
      "USD/EUR      |    1.5000         |                  |\n",
      "Cost/bot lcl |    EUR  7.5453    |    USD 15.0000   |\n",
      "Num imported |      1,325,322.5  |        754,533.3 |     2,079,855.8\n",
      "Profit       |  EUR 4,578,547.4  |  USD-1,924,210.9 | EUR 3,295,740.2\n"
     ]
    }
   ],
   "source": [
    "#Code Segment 12.9\n",
    "display_company_stats(1.5,\"Table 12.6: Philippe-Ken Wine Company: weak dollar\")"
   ]
  },
  {
   "cell_type": "markdown",
   "metadata": {
    "collapsed": false
   },
   "source": [
    "## Code segment 12.10\n",
    "Figure 12.1 in Section 12.2.1"
   ]
  },
  {
   "cell_type": "code",
   "execution_count": 13,
   "metadata": {
    "collapsed": false
   },
   "outputs": [
    {
     "data": {
      "image/png": "[encoded data removed]",
      "text/plain": "<Figure size 1800x1200 with 1 Axes>"
     },
     "metadata": {
      "image/png": {
       "height": 1155,
       "width": 1724
      },
      "needs_background": "light"
     }
    }
   ],
   "source": [
    "#Code Segment 12.10\n",
    "#Show number-of-bottles curve for Siegel's paradox\n",
    "%matplotlib inline\n",
    "import matplotlib.pyplot as plt\n",
    "plt.rcParams['figure.dpi']= 300\n",
    "\n",
    "x=np.arange(usd_per_euro-.3,usd_per_euro+.3+.01,.01)\n",
    "z=x/usd_per_euro\n",
    "y=z+1/z\n",
    "\n",
    "i=np.arange(len(x))\n",
    "plt.plot(i,y,color='red')\n",
    "plt.xticks(i[::10],[str(round(float(label), 3)) for label in x[::10]])\n",
    "plt.xlabel(\"Dollars per Euro\")\n",
    "plt.ylabel(\"Millions of bottles\")\n",
    "plt.title(\"Figure 12.1: Total bottle volume of Philippe-Ken Wine Company\")\n",
    "plt.grid()\n",
    "plt.show()"
   ]
  },
  {
   "cell_type": "markdown",
   "metadata": {
    "collapsed": false
   },
   "source": [
    "## Code segment 12.11\n",
    "Siegel's Paradox calculations in Section 12.2.1"
   ]
  },
  {
   "cell_type": "code",
   "execution_count": 14,
   "metadata": {
    "collapsed": false
   },
   "outputs": [
    {
     "name": "stdout",
     "output_type": "stream",
     "text": [
      "Roots of (12.12) polynomial: -0.9555779793429654 1 1.0464870702520563\n",
      "Profit less than original between (f/d)= 1.1318 and 1.1844140661112772\n",
      "Minimum profit at z= 1.0233800320326436 (f/d)= 1.1582615202545459\n",
      "Minimum hedged profit 1988770.9045979201\n",
      "Percentage profit giveup at minimum: 0.56\n",
      "Unhedged (PWC) profit at minimum hedged profit: 2514360.7047181595\n"
     ]
    }
   ],
   "source": [
    "#Code Segment 12.11\n",
    "#More Siegel's Paradox calculations\n",
    "#Roots of quadratic in (12.12)\n",
    "a_poly=11\n",
    "b_poly=-1\n",
    "c_poly=-11\n",
    "discriminant=b_poly**2-4*a_poly*c_poly\n",
    "\n",
    "low_root=(-b_poly-np.sqrt(discriminant))/(2*a_poly)\n",
    "high_root=(-b_poly+np.sqrt(discriminant))/(2*a_poly)\n",
    "print(\"Roots of (12.12) polynomial:\",low_root,1,high_root)\n",
    "\n",
    "print(\"Profit less than original between (f/d)=\",usd_per_euro, \\\n",
    "      \"and\",high_root*usd_per_euro)\n",
    "\n",
    "#minimum profit location\n",
    "min_root=(4+np.sqrt(158/3))/11\n",
    "print(\"Minimum profit at z=\",min_root,\"(f/d)=\",min_root*usd_per_euro)\n",
    "\n",
    "#minimum profit amount\n",
    "min_profit=1000000*(min_root+1)*(11-21*min_root+11*min_root**2)/min_root**2\n",
    "print(\"Minimum hedged profit\",min_profit)\n",
    "profit_giveup_percent=100.-min_profit/20000.\n",
    "print(\"Percentage profit giveup at minimum: %.2f\" % profit_giveup_percent)\n",
    "#Compute unhedged profit at that point\n",
    "print(\"Unhedged (PWC) profit at minimum hedged profit:\",20000000*(1.1*min_root-1))"
   ]
  },
  {
   "cell_type": "markdown",
   "metadata": {
    "collapsed": false
   },
   "source": [
    "## Code segment 12.12\n",
    "Figures 12.2 and 12.3 in Section 12.2.1"
   ]
  },
  {
   "cell_type": "code",
   "execution_count": 15,
   "metadata": {
    "collapsed": false
   },
   "outputs": [
    {
     "data": {
      "image/png": "[encoded data removed]",
      "text/plain": "<Figure size 1800x1200 with 1 Axes>"
     },
     "metadata": {
      "image/png": {
       "height": 1155,
       "width": 1629
      },
      "needs_background": "light"
     }
    },
    {
     "data": {
      "image/png": "[encoded data removed]",
      "text/plain": "<Figure size 1800x1200 with 1 Axes>"
     },
     "metadata": {
      "image/png": {
       "height": 1155,
       "width": 1742
      },
      "needs_background": "light"
     }
    }
   ],
   "source": [
    "#Code Segment 12.12\n",
    "#Show profitability graphs for Siegel's paradox -\n",
    "#Philippe-Ken Wine Company\n",
    "\n",
    "#Broad range and narrow range\n",
    "x=np.arange(.5,2.01,.01)\n",
    "title_str=\"Figure 12.2: Philippe-Ken Wine Company Profit\"\n",
    "\n",
    "for graph_no in [1,2]:\n",
    "\n",
    "    z=x/usd_per_euro\n",
    "    y_hedged=[(zz+1)*(11-21*zz+11*zz**2)/zz**2 for zz in z]  #(12.29)\n",
    "    y_unhedged=20*(1.1*z-1)\n",
    "    y_constant=[2]*len(y_hedged)\n",
    "\n",
    "    i=np.arange(len(x))\n",
    "    plt.plot(i,y_hedged,color='red',label='US/France PKWC')\n",
    "    if graph_no==1:\n",
    "        plt.plot(i,y_unhedged,color='blue',label='France only PWC')\n",
    "    plt.plot(i,y_constant,color='green',label='Unchanged rates')\n",
    "    plt.xticks(i[::20],[str(round(float(label), 3)) for label in x[::20]])\n",
    "    plt.xlabel(\"Dollars per Euro\")\n",
    "    plt.ylabel(\"Millions of Euros\")\n",
    "    plt.legend(loc='lower right')\n",
    "    plt.title(title_str)\n",
    "    plt.grid()\n",
    "    plt.show()\n",
    "\n",
    "    #next iteration\n",
    "    x=np.arange(usd_per_euro,high_root*usd_per_euro+.001,.001)\n",
    "    title_str=\"Figure 12.3: Philippe-Ken Wine Company Profit - neighborhood\""
   ]
  },
  {
   "cell_type": "markdown",
   "metadata": {
    "collapsed": false
   },
   "source": [
    "## Code segment 12.13\n",
    "Figure 12.4 in Section 12.2.4"
   ]
  },
  {
   "cell_type": "code",
   "execution_count": 16,
   "metadata": {
    "collapsed": false
   },
   "outputs": [
    {
     "data": {
      "text/plain": [
       "<AxesSubplot: title={'center': 'Figure 12.4: US swap spreads over Treasurys(by maturity)\\nSource:IHS Markit'}, xlabel='Date', ylabel='pct'>"
      ]
     },
     "execution_count": 16,
     "metadata": {
     },
     "output_type": "execute_result"
    },
    {
     "data": {
      "image/png": "[encoded data removed]",
      "text/plain": "<Figure size 432x288 with 1 Axes>"
     },
     "metadata": {
      "image/png": {
       "height": 329,
       "width": 400
      },
      "needs_background": "light"
     }
    }
   ],
   "source": [
    "#Code Segment 12.13\n",
    "#Get Treasury rates; compare them to SOFR rates from IHS Markit\n",
    "import pandas as pd\n",
    "import numpy as np\n",
    "import qrpm_funcs as qf\n",
    "import matplotlib.pyplot as plt\n",
    "%matplotlib inline\n",
    "\n",
    "fname=\"USD SOFR\"\n",
    "df_out = pd.read_excel(fname+\".xlsx\",engine=\"openpyxl\")\n",
    "#Drop unused old index column\n",
    "df_out = df_out.drop(df_out.columns[0], axis=1)\n",
    "\n",
    "seriesnames = ['DGS3MO','DGS1','DGS5','DGS10','DGS20','DGS30']\n",
    "tenors = [3.,12.,60.,120.,240.,360.]\n",
    "firstday = df_out[\"Reference Date\"].iloc[0].strftime('%Y-%m-%d')\n",
    "lastday = qf.LastYearEnd()\n",
    "\n",
    "cdates,ratematrix = qf.GetFREDMatrix(seriesnames,startdate=firstday, \\\n",
    "                        enddate=lastday)\n",
    "\n",
    "df_tsys = pd.DataFrame(ratematrix,columns=seriesnames)\n",
    "df_tsys[\"Date\"] = cdates\n",
    "\n",
    "df_tsys.dropna(inplace=True)    #Drop NaNs\n",
    "df_tsys.set_index(\"Date\",inplace=True)    #Make the date the index\n",
    "\n",
    "#Combine Treasurys and SOFR so spreads can be computed\n",
    "df_both = df_tsys.copy()\n",
    "for t,m in enumerate(tenors):\n",
    "    #Form dataframe with SOFR rates\n",
    "    df_m = pd.DataFrame(list(df_out[\"Interest Rate\"] \\\n",
    "                    [df_out[\"Int Months\"]==m]), \\\n",
    "                    columns=[\"X\"+seriesnames[t]])\n",
    "    df_m[\"Date\"] = list(df_out[\"Reference Date\"] \\\n",
    "                    [df_out[\"Int Months\"]==m].dt.strftime('%Y-%m-%d'))\n",
    "    df_m.set_index(\"Date\",inplace=True)\n",
    "    df_both = df_both.join(df_m, how = 'inner')\n",
    "\n",
    "#Form spread series\n",
    "for series in seriesnames:\n",
    "    df_both[\"S\"+series[3:]]=df_both[\"X\"+series]-df_both[series]\n",
    "    #Drop components\n",
    "    df_both = df_both.drop(columns=[\"X\"+series,series])\n",
    "\n",
    "figtitle=\"Figure 12.4: US swap spreads over Treasurys\"+ \\\n",
    "    \"(by maturity)\\nSource:IHS Markit\"\n",
    "df_both.plot(title=figtitle,ylabel=\"pct\",grid=True,rot=45)"
   ]
  },
  {
   "cell_type": "markdown",
   "metadata": {
    "collapsed": false
   },
   "source": [
    "## Code segment 12.14\n",
    "Swap spread profits in Section 12.2.4"
   ]
  },
  {
   "cell_type": "code",
   "execution_count": 17,
   "metadata": {
    "collapsed": false
   },
   "outputs": [
    {
     "name": "stdout",
     "output_type": "stream",
     "text": [
      "Profit from $100Mn 30-year spread: $439,330.0 as of 2021-12-31\n"
     ]
    }
   ],
   "source": [
    "#Code Segment 12.14\n",
    "spread_profit = - 10**8 * df_both[\"S30\"].iloc[-1] * 10**(-2)\n",
    "print(\"Profit from $100Mn 30-year spread: ${:,}\". \\\n",
    "      format(spread_profit),\"as of\",df_both.index[-1])"
   ]
  },
  {
   "cell_type": "markdown",
   "metadata": {
    "collapsed": false
   },
   "source": [
    "## Code segment 12.15\n",
    "Figures 12.6a and 12.6b in Section 12.4.1"
   ]
  },
  {
   "cell_type": "code",
   "execution_count": 18,
   "metadata": {
    "collapsed": false
   },
   "outputs": [
    {
     "data": {
      "image/png": "[encoded data removed]",
      "text/plain": "<Figure size 864x288 with 2 Axes>"
     },
     "metadata": {
      "image/png": {
       "height": 291,
       "width": 723
      },
      "needs_background": "light"
     }
    }
   ],
   "source": [
    "#Show put buying\n",
    "\n",
    "#Graphing code used in all subsequent distribution shaping figures\n",
    "def dual_dist_hedge_graph(x,y,y_norm,leg_trade,title1,title2):\n",
    "    plt.figure(figsize=(12,4))\n",
    "    #Payoff graph\n",
    "    plt.subplot(1,2,1)\n",
    "    plt.plot(x,x,label='Underlying')\n",
    "    plt.plot(x,y,label=leg_trade)\n",
    "    plt.xlabel(\"Underlying at maturity\")\n",
    "    plt.ylabel(\"Value at maturity\")\n",
    "    plt.grid()\n",
    "    plt.legend()\n",
    "    plt.title(title1)\n",
    "    #Distribution graph\n",
    "    plt.subplot(1,2,2)\n",
    "    plt.xlabel(\"Underlying\")\n",
    "    plt.ylabel(\"Probability density\")\n",
    "    plt.plot(x,y_norm,label='Original')\n",
    "    plt.plot(y,y_norm,label=leg_trade)\n",
    "    plt.grid()\n",
    "    plt.legend()\n",
    "    plt.title(title2)\n",
    "    \n",
    "    plt.show()\n",
    "\n",
    "#Front ends for quanto_call and quanto_put routines above\n",
    "#Simplifies them to Black-Scholes (same as formula 9.3)\n",
    "def black_scholes_call(X,K,T,r,sigma):\n",
    "    return(quanto_call(X,T,r,r,K,sigma,0.,1.))\n",
    "def black_scholes_put(X,K,T,r,sigma):\n",
    "    return(quanto_put(X,T,r,r,K,sigma,0.,1.))\n",
    "    \n",
    "#Common parameters used in all subsequent distribution shaping figures\n",
    "money=100\n",
    "time=1\n",
    "rfree=.02\n",
    "sigma=.2\n",
    "x=np.arange(50.,150.,1.)\n",
    "y_norm=spst.norm.pdf(np.log(x),np.log(money)+rfree*time,sigma)\n",
    "\n",
    "#Buy-put trade\n",
    "put_strike=90\n",
    "put_cost=black_scholes_put(money,put_strike,time,rfree,sigma)\n",
    "\n",
    "under_with_trade=[max(put_strike-put_cost,u-put_cost) for u in x]\n",
    "title_1=\"Figure 12.6a: Payoff of Put plus Underlying:\\nStrike=%3.f\" % put_strike\n",
    "title_1+=\", Cost=%2.2f\" % put_cost\n",
    "title_2=\"Figure 12.6b: Density function with and w/o put\"\n",
    "legend=\"W/put\"\n",
    "\n",
    "dual_dist_hedge_graph(x,under_with_trade,y_norm,legend,title_1,title_2)"
   ]
  },
  {
   "cell_type": "markdown",
   "metadata": {
    "collapsed": false
   },
   "source": [
    "## Code segment 12.16\n",
    "Figures 12.7a and 12.7b in Section 12.4.1"
   ]
  },
  {
   "cell_type": "code",
   "execution_count": 19,
   "metadata": {
    "collapsed": false
   },
   "outputs": [
    {
     "data": {
      "image/png": "[encoded data removed]",
      "text/plain": "<Figure size 864x288 with 2 Axes>"
     },
     "metadata": {
      "image/png": {
       "height": 291,
       "width": 737
      },
      "needs_background": "light"
     }
    }
   ],
   "source": [
    "#Code Segment 12.16\n",
    "#Show selling call\n",
    "\n",
    "call_strike=110\n",
    "call_cost=black_scholes_call(money,call_strike,time,rfree,sigma)\n",
    "\n",
    "under_with_trade=[min(call_strike+call_cost,u+call_cost) for u in x]\n",
    "title_1=\"Figure 12.7a: Payoff of Underlying minus Call:\\nStrike=%3.f\" % call_strike\n",
    "title_1+=\", Cost=%2.2f\" % call_cost\n",
    "title_2=\"Figure 12.7b: Density function with and w/o written call\"\n",
    "legend=\"W/call\"\n",
    "\n",
    "dual_dist_hedge_graph(x,under_with_trade,y_norm,legend,title_1,title_2)"
   ]
  },
  {
   "cell_type": "markdown",
   "metadata": {
    "collapsed": false
   },
   "source": [
    "## Code segment 12.17\n",
    "Figures 12.8a and 12.8b in Section 12.4.1"
   ]
  },
  {
   "cell_type": "code",
   "execution_count": 20,
   "metadata": {
    "collapsed": false
   },
   "outputs": [
    {
     "data": {
      "image/png": "[encoded data removed]",
      "text/plain": "<Figure size 864x288 with 2 Axes>"
     },
     "metadata": {
      "image/png": {
       "height": 305,
       "width": 736
      },
      "needs_background": "light"
     }
    }
   ],
   "source": [
    "#Code Segment 12.17\n",
    "#Show put spread\n",
    "\n",
    "low_put_strike=80\n",
    "high_put_strike=90\n",
    "low_put_cost=black_scholes_put(money,low_put_strike,time,rfree,sigma)\n",
    "high_put_cost=black_scholes_put(money,high_put_strike,time,rfree,sigma)\n",
    "\n",
    "under_with_trade=np.concatenate(( \\\n",
    "    [u+high_put_strike-low_put_strike for u in x if u<=low_put_strike], \\\n",
    "    [high_put_strike for u in x if low_put_strike<u<high_put_strike], \\\n",
    "    [u for u in x if u>=high_put_strike]))\n",
    "under_with_trade-=(high_put_cost-low_put_cost)\n",
    "\n",
    "title_1=\"Figure 12.8a: Payoff of Put Spread plus Underlying:\\nHighStrk=%3.f\" \\\n",
    "    % high_put_strike\n",
    "title_1+=\", HighCst=%2.2f\" % high_put_cost\n",
    "title_1+=\";\\nLowStrk=%3.f\" % low_put_strike\n",
    "title_1+=\", LowCst=%2.2f\" %low_put_cost\n",
    "title_2=\"Figure 12.8b: Density function with and w/o put spread\"\n",
    "legend=\"W/put spread\"\n",
    "\n",
    "dual_dist_hedge_graph(x,under_with_trade,y_norm,legend,title_1,title_2)"
   ]
  },
  {
   "cell_type": "markdown",
   "metadata": {
    "collapsed": false
   },
   "source": [
    "## Code segment 12.18\n",
    "Figures 12.9a and 12.9b in Section 12.4.1"
   ]
  },
  {
   "cell_type": "code",
   "execution_count": 21,
   "metadata": {
    "collapsed": false
   },
   "outputs": [
    {
     "data": {
      "image/png": "[encoded data removed]",
      "text/plain": "<Figure size 864x288 with 2 Axes>"
     },
     "metadata": {
      "image/png": {
       "height": 305,
       "width": 737
      },
      "needs_background": "light"
     }
    }
   ],
   "source": [
    "#Code Segment 12.18\n",
    "#Show (bear) call spread\n",
    "\n",
    "low_call_strike=110\n",
    "high_call_strike=120\n",
    "low_call_cost=black_scholes_call(money,low_call_strike,time,rfree,sigma)\n",
    "high_call_cost=black_scholes_call(money,high_call_strike,time,rfree,sigma)\n",
    "\n",
    "under_with_trade=np.concatenate(( \\\n",
    "    [u for u in x if u<=low_call_strike], \\\n",
    "    [low_call_strike for u in x if low_call_strike<u<high_call_strike], \\\n",
    "    [u+low_call_strike-high_call_strike for u in x if u>=high_call_strike]))\n",
    "under_with_trade+=(low_call_cost-high_call_cost)\n",
    "\n",
    "title_1=\"Figure 12.9a: Payoff of Call Spread plus Underlying:\\nHighStrk=%3.f\" \\\n",
    "    % high_call_strike\n",
    "title_1+=\", HighCst=%2.2f\" % high_call_cost\n",
    "title_1+=\";\\nLowStrk=%3.f\" % low_call_strike\n",
    "title_1+=\", LowCst=%2.2f\" %low_call_cost\n",
    "title_2=\"Figure 12.9b: Density function with and w/o call spread\"\n",
    "legend=\"W/call spread\"\n",
    "\n",
    "dual_dist_hedge_graph(x,under_with_trade,y_norm,legend,title_1,title_2)"
   ]
  },
  {
   "cell_type": "markdown",
   "metadata": {
    "collapsed": false
   },
   "source": [
    "## Code segment 12.19\n",
    "Figures 12.10a and 12.10b in Section 12.4.1"
   ]
  },
  {
   "cell_type": "code",
   "execution_count": 22,
   "metadata": {
    "collapsed": false
   },
   "outputs": [
    {
     "data": {
      "image/png": "[encoded data removed]",
      "text/plain": "<Figure size 864x288 with 2 Axes>"
     },
     "metadata": {
      "image/png": {
       "height": 305,
       "width": 737
      },
      "needs_background": "light"
     }
    }
   ],
   "source": [
    "#Code Segment 12.19\n",
    "#Show a long straddle\n",
    "\n",
    "call_cost=black_scholes_call(money,money,time,rfree,sigma)\n",
    "put_cost=black_scholes_put(money,money,time,rfree,sigma)\n",
    "\n",
    "under_with_trade=np.concatenate(\\\n",
    "    ([money-call_cost-put_cost for u in x if u<=money], \\\n",
    "    [u+(u-money)-call_cost-put_cost for u in x if u>money]))\n",
    "\n",
    "title_1=\"Figure 12.10a: Payoff of Underlying Plus Straddle:\"+ \\\n",
    "    \"\\nCall Strike=Put Strike=%3.f\" % money\n",
    "title_1+=\",\\nCall Cost=%2.2f\" % call_cost\n",
    "title_1+=\", Put Cost=%2.2f\" % put_cost\n",
    "title_2=\"Figure 12.10b: Density function with and w/o +straddle\"\n",
    "legend=\"W/+straddle\"\n",
    "\n",
    "dual_dist_hedge_graph(x,under_with_trade,y_norm,legend,title_1,title_2)"
   ]
  },
  {
   "cell_type": "markdown",
   "metadata": {
    "collapsed": false
   },
   "source": [
    "## Code segment 12.20\n",
    "Figures 12.11a and 12.11b in Section 12.4.1"
   ]
  },
  {
   "cell_type": "code",
   "execution_count": 23,
   "metadata": {
    "collapsed": false
   },
   "outputs": [
    {
     "data": {
      "image/png": "[encoded data removed]",
      "text/plain": "<Figure size 864x288 with 2 Axes>"
     },
     "metadata": {
      "image/png": {
       "height": 305,
       "width": 735
      },
      "needs_background": "light"
     }
    }
   ],
   "source": [
    "#Code Segment 12.20\n",
    "#Show a short straddle\n",
    "\n",
    "under_with_trade=np.concatenate(\\\n",
    "    ([u+(u-money)+call_cost+put_cost for u in x if u<=money], \\\n",
    "    [money+call_cost+put_cost for u in x if u>money]))\n",
    "\n",
    "title_1=\"Figure 12.11a: Payoff of Underlying Minus Straddle:\"+ \\\n",
    "    \"\\nCall Strike=Put Strike=%3.f\" % money\n",
    "title_1+=\",\\nCall Cost=%2.2f\" % call_cost\n",
    "title_1+=\", Put Cost=%2.2f\" % put_cost\n",
    "title_2=\"Figure 12.11b: Density function with and w/o -straddle\"\n",
    "legend=\"W/-straddle\"\n",
    "\n",
    "dual_dist_hedge_graph(x,under_with_trade,y_norm,legend,title_1,title_2)"
   ]
  },
  {
   "cell_type": "markdown",
   "metadata": {
    "collapsed": false
   },
   "source": [
    "## Code segment 12.21  \n",
    "Figures 12.12a and 12.12b in Section 12.4.1"
   ]
  },
  {
   "cell_type": "code",
   "execution_count": 24,
   "metadata": {
    "collapsed": false
   },
   "outputs": [
    {
     "data": {
      "image/png": "[encoded data removed]",
      "text/plain": "<Figure size 864x288 with 2 Axes>"
     },
     "metadata": {
      "image/png": {
       "height": 305,
       "width": 732
      },
      "needs_background": "light"
     }
    }
   ],
   "source": [
    "#Code Segment 12.21\n",
    "#Show a (short) strangle\n",
    "\n",
    "put_strike=90\n",
    "call_strike=110\n",
    "\n",
    "put_cost=black_scholes_put(money,put_strike,time,rfree,sigma)\n",
    "call_cost=black_scholes_call(money,call_strike,time,rfree,sigma)\n",
    "\n",
    "under_with_trade=np.concatenate(\\\n",
    "    ([u+(u-put_strike) for u in x if u<=put_strike], \\\n",
    "     [u for u in x if put_strike<u<call_strike], \\\n",
    "     [call_strike for u in x if u>=call_strike]))\n",
    "under_with_trade+=call_cost+put_cost\n",
    "\n",
    "title_1=\"Figure 12.12a: Payoff of Underlying with Strangle:\\nCall Strike=%3.f\" \\\n",
    "    % call_strike\n",
    "title_1+=\", Call Cost=%2.2f\" % call_cost\n",
    "title_1+=\";\\nPut Strike=%3.f\" % put_strike\n",
    "title_1+=\", Put Cost=%2.2f\" % put_cost\n",
    "title_2=\"Figure 12.12b: Density function with and w/o strangle\"\n",
    "legend=\"W/strangle\"\n",
    "\n",
    "dual_dist_hedge_graph(x,under_with_trade,y_norm,legend,title_1,title_2)"
   ]
  },
  {
   "cell_type": "markdown",
   "metadata": {
    "collapsed": false
   },
   "source": [
    "## Code segment 12.22\n",
    "Figures 12.13a and 12.13b in Section 12.4.1"
   ]
  },
  {
   "cell_type": "code",
   "execution_count": 25,
   "metadata": {
    "collapsed": false
   },
   "outputs": [
    {
     "data": {
      "image/png": "[encoded data removed]",
      "text/plain": "<Figure size 864x288 with 2 Axes>"
     },
     "metadata": {
      "image/png": {
       "height": 291,
       "width": 728
      },
      "needs_background": "light"
     }
    }
   ],
   "source": [
    "#Code Segment 12.22\n",
    "#Show payoff pattern of a butterfly spread\n",
    "\n",
    "low_strike=80\n",
    "mid_strike=100\n",
    "high_strike=120\n",
    "\n",
    "low_call_cost=black_scholes_call(money,low_strike,time,rfree,sigma)\n",
    "mid_call_cost=black_scholes_call(money,mid_strike,time,rfree,sigma)\n",
    "high_call_cost=black_scholes_call(money,high_strike,time,rfree,sigma)\n",
    "\n",
    "under_with_trade=np.concatenate(\\\n",
    "    ([u for u in x if u<=low_strike], \\\n",
    "     [u+(u-low_strike) for u in x if low_strike<u<=mid_strike], \\\n",
    "     [u+ (high_strike-u)*(mid_strike-low_strike)/(high_strike-mid_strike) \\\n",
    "      for u in x if mid_strike<u<=high_strike], \\\n",
    "     [u for u in x if u>high_strike]))\n",
    "trade_cost=low_call_cost-2*mid_call_cost+high_call_cost\n",
    "under_with_trade-=trade_cost\n",
    "\n",
    "title_1=\"Figure 12.13a: Payoff of Underlying w/Butterfly Spread:\\nLow=%3.f\" \\\n",
    "    % low_strike\n",
    "title_1+=\"; Mid=%3.f\" % mid_strike\n",
    "title_1+=\"; High=%3.f\" % high_strike\n",
    "title_1+=\"; Trade cost=%2.2f\" % trade_cost\n",
    "title_2=\"Figure 12.13b: Density function w/ and w/o butterfly\"\n",
    "legend=\"W/butterfly\"\n",
    "\n",
    "dual_dist_hedge_graph(x,under_with_trade,y_norm,legend,title_1,title_2)"
   ]
  },
  {
   "cell_type": "markdown",
   "metadata": {
    "collapsed": false
   },
   "source": [
    "## Code segment 12.23\n",
    "Figures 12.14a and 12.14b in Section 12.4.1"
   ]
  },
  {
   "cell_type": "code",
   "execution_count": 26,
   "metadata": {
    "collapsed": false
   },
   "outputs": [
    {
     "data": {
      "image/png": "[encoded data removed]",
      "text/plain": "<Figure size 864x288 with 2 Axes>"
     },
     "metadata": {
      "image/png": {
       "height": 291,
       "width": 734
      },
      "needs_background": "light"
     }
    }
   ],
   "source": [
    "#Code Segment 12.23\n",
    "#Show payoff pattern of a zero cost collar\n",
    "\n",
    "put_strike=90\n",
    "call_strike=117.50468   #just did trial and error to find strike that matches prices\n",
    "\n",
    "put_cost=black_scholes_put(money,put_strike,time,rfree,sigma)\n",
    "call_cost=black_scholes_call(money,call_strike,time,rfree,sigma)\n",
    "\n",
    "under_with_trade=np.concatenate(\\\n",
    "    ([put_strike for u in x if u<=put_strike], \\\n",
    "     [u for u in x if put_strike<u<=call_strike], \\\n",
    "     [call_strike for u in x if call_strike<u]))\n",
    "\n",
    "title_1=\"Figure 12.14a: Payoff of Underlying with ZC Collar:\\nPut Strike=%3.f\" \\\n",
    "    % put_strike\n",
    "title_1+=\"; Call Strike=%3.f\" % call_strike\n",
    "title_1+=\"; Option costs=%2.2f\" % put_cost\n",
    "title_2=\"Figure 12.14b: Density function with and w/o ZC collar\"\n",
    "legend=\"W/ZC collar\"\n",
    "\n",
    "dual_dist_hedge_graph(x,under_with_trade,y_norm,legend,title_1,title_2)"
   ]
  },
  {
   "cell_type": "markdown",
   "metadata": {
    "collapsed": false
   },
   "source": [
    "## Code segment 12.24  \n",
    "Simple delta example in Section 12.4.2"
   ]
  },
  {
   "cell_type": "code",
   "execution_count": 27,
   "metadata": {
    "collapsed": false
   },
   "outputs": [
    {
     "name": "stdout",
     "output_type": "stream",
     "text": [
      "     Original X0: 100.00\n",
      "  Original Price: 4.2322\n",
      "           Delta: 0.5398\n",
      "\n",
      "          New X0: 100.10\n",
      "       New Price: 4.2863\n",
      "Difference delta: 0.5418\n"
     ]
    }
   ],
   "source": [
    "#Code Segment 12.24\n",
    "#Simple delta example\n",
    "\n",
    "def greeks(price,strike,r,time,sigma):\n",
    "    #return a 6-vector of Black-Scholes Greeks:\n",
    "    #BS price, delta, gamma, theta, vega, rho\n",
    "    if price<=0 or strike<=0 or time<=0:\n",
    "        return(6*[0])\n",
    "    #Black-Scholes price\n",
    "    d1=(np.log(price/strike)+(r+sigma**2/2)*time)/(sigma*np.sqrt(time))\n",
    "    d2=d1-sigma*np.sqrt(time)\n",
    "    n_of_d1=spst.norm.cdf(d1)\n",
    "    n_of_d2=spst.norm.cdf(d2)\n",
    "    bs_call=price*n_of_d1-np.exp(-r*time)*strike*n_of_d2\n",
    "    #Greeks\n",
    "    delta=n_of_d1\n",
    "    gamma=np.exp(-d1**2/2)/(price*sigma*np.sqrt(2*np.pi*time))\n",
    "    vega=time*gamma*sigma*(price**2)\n",
    "    rho=strike*n_of_d2*time*np.exp(-r*time)\n",
    "    theta=.5*((price*sigma)**2)*gamma+r*rho/time\n",
    "    gr_vec=[bs_call,delta,gamma,theta,vega,rho]\n",
    "    return(gr_vec)\n",
    "\n",
    "sigma=.2\n",
    "rf=.02\n",
    "X0=K=100\n",
    "T=.25\n",
    "\n",
    "Orig_price,delta,gamma,theta,vega,rho=greeks(X0,K,rf,T,sigma)\n",
    "\n",
    "X0_new=100.1\n",
    "New_price,new_d,new_g,new_t,new_v,new_r=greeks(X0_new,K,rf,T,sigma)\n",
    "diff_delta=(New_price-Orig_price)/(X0_new-X0)\n",
    "\n",
    "print(\"     Original X0: %.2f\" % X0)\n",
    "print(\"  Original Price: %.4f\" % Orig_price)\n",
    "print(\"           Delta: %.4f\" % delta)\n",
    "print(\"\\n          New X0: %.2f\" % X0_new)\n",
    "print(\"       New Price: %.4f\" % New_price)\n",
    "print(\"Difference delta: %.4f\" % diff_delta)"
   ]
  },
  {
   "cell_type": "markdown",
   "metadata": {
    "collapsed": false
   },
   "source": [
    "## Code segment 12.25\n",
    "Figure 12.14 in Section 12.4.2"
   ]
  },
  {
   "cell_type": "code",
   "execution_count": 28,
   "metadata": {
    "collapsed": false
   },
   "outputs": [
    {
     "data": {
      "image/png": "[encoded data removed]",
      "text/plain": "<Figure size 432x288 with 1 Axes>"
     },
     "metadata": {
      "image/png": {
       "height": 291,
       "width": 382
      },
      "needs_background": "light"
     }
    },
    {
     "name": "stdout",
     "output_type": "stream",
     "text": [
      "ATM call theta 8.93406342873292\n",
      "ATM put theta 10.924088387118283\n"
     ]
    }
   ],
   "source": [
    "#Code Segment 12.25\n",
    "#Graph theta from previous example as a function of strike\n",
    "\n",
    "strikes=np.arange(50,151,1)\n",
    "\n",
    "plt.plot(strikes,[greeks(X0,k,rf,T,sigma)[3] \\\n",
    "                 for k in strikes],label=\"Call\")\n",
    "plt.plot(strikes,[greeks(X0,k,rf,T,sigma)[3]+rf*k*np.exp(-rf*T) \\\n",
    "                 for k in strikes],label=\"Put\")\n",
    "plt.xlabel(\"Strike price\")\n",
    "plt.ylabel(\"Theta\")\n",
    "plt.legend()\n",
    "plt.grid()\n",
    "str_title=\"Figure 12.14: Theta as a function of strike price\\n\"\n",
    "str_title+=\"Price=%3.f\" % X0\n",
    "str_title+=\", r=%3.2f\" % rf\n",
    "str_title+=\", T=%3.2f\" % T\n",
    "str_title+=\", sigma=%3.2f\" % sigma\n",
    "plt.title(str_title)\n",
    "plt.show();\n",
    "\n",
    "print(\"ATM call theta\",greeks(X0,X0,rf,T,sigma)[3])\n",
    "print(\"ATM put theta\",greeks(X0,X0,rf,T,sigma)[3]+rf*X0*np.exp(-rf*T))"
   ]
  },
  {
   "cell_type": "markdown",
   "metadata": {
    "collapsed": false
   },
   "source": [
    "## Code segment 12.26\n",
    "Figure 12.16 in Section 12.4.2"
   ]
  },
  {
   "cell_type": "code",
   "execution_count": 29,
   "metadata": {
    "collapsed": false
   },
   "outputs": [
    {
     "data": {
      "image/png": "[encoded data removed]",
      "text/plain": "<Figure size 432x288 with 2 Axes>"
     },
     "metadata": {
      "image/png": {
       "height": 291,
       "width": 441
      },
      "needs_background": "light"
     }
    },
    {
     "name": "stdout",
     "output_type": "stream",
     "text": [
      "ATM delta 0.539827837277029\n",
      "ATM gamma  0.039695254747701185\n",
      "ATM vega  19.847627373850596\n",
      "Vega/gamma ratio  500.0\n"
     ]
    }
   ],
   "source": [
    "#Code Segment 12.26\n",
    "#Gamma and vega\n",
    "\n",
    "fig=plt.figure() # Create matplotlib figure\n",
    "\n",
    "#Set up two axes because of different orders of\n",
    "#magnitude between gamma and vega\n",
    "ax = fig.add_subplot(111)\n",
    "ax2 = ax.twinx() # Create another axis that shares the same x-axis as ax.\n",
    "\n",
    "ax.plot(strikes,[greeks(X0,k,rf,T,sigma)[2] \\\n",
    "                 for k in strikes], \\\n",
    "                 color='black')\n",
    "ax2.plot(strikes,[greeks(X0,k,rf,T,sigma)[4] \\\n",
    "                 for k in strikes], label=\"Vega\", \\\n",
    "                 color='black')\n",
    "\n",
    "ax.set_ylabel('Gamma', color='blue')\n",
    "ax.yaxis.label.set_color('blue')\n",
    "ax.tick_params(axis='y', colors='blue')\n",
    "\n",
    "ax2.set_ylabel('Vega', color='red')\n",
    "ax2.yaxis.label.set_color('red')\n",
    "ax2.tick_params(axis='y', colors='red')\n",
    "\n",
    "ax.set_xlabel(\"Strike price\")\n",
    "ax.grid(axis=\"x\")\n",
    "plt.grid()\n",
    "\n",
    "str_title=\"Figure 12.16: Gamma,Vega as a function of strike price\\n\"\n",
    "str_title+=\"Price=%3.f\" % X0\n",
    "str_title+=\", r=%3.2f\" % rf\n",
    "str_title+=\", T=%3.2f\" % T\n",
    "str_title+=\", sigma=%3.2f\" % sigma\n",
    "plt.title(str_title)\n",
    "plt.show();\n",
    "\n",
    "print(\"ATM delta\",greeks(X0,X0,rf,T,sigma)[1])\n",
    "print(\"ATM gamma \",greeks(X0,X0,rf,T,sigma)[2])\n",
    "print(\"ATM vega \",greeks(X0,X0,rf,T,sigma)[4])\n",
    "print(\"Vega/gamma ratio \",X0**2*T*sigma)"
   ]
  }
 ],
 "metadata": {
  "kernelspec": {
   "argv": [
    "/usr/bin/python3",
    "-m",
    "ipykernel",
    "--HistoryManager.enabled=False",
    "--matplotlib=inline",
    "-c",
    "%config InlineBackend.figure_formats = set(['retina'])\nimport matplotlib; matplotlib.rcParams['figure.figsize'] = (12, 7)",
    "-f",
    "{connection_file}"
   ],
   "display_name": "Python 3 (system-wide)",
   "env": {
   },
   "language": "python",
   "metadata": {
    "cocalc": {
     "description": "Python 3 programming language",
     "priority": 100,
     "url": "https://www.python.org/"
    }
   },
   "name": "python3",
   "resource_dir": "/ext/jupyter/kernels/python3"
  },
  "language_info": {
   "codemirror_mode": {
    "name": "ipython",
    "version": 3
   },
   "file_extension": ".py",
   "mimetype": "text/x-python",
   "name": "python",
   "nbconvert_exporter": "python",
   "pygments_lexer": "ipython3",
   "version": "3.10.6"
  }
 },
 "nbformat": 4,
 "nbformat_minor": 4
}